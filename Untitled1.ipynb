{
 "metadata": {
  "name": "",
  "signature": "sha256:1a8a627bf6c75d9eddc28a998ffd3e39405fd01b4b974b21785e8e2b7402eadd"
 },
 "nbformat": 3,
 "nbformat_minor": 0,
 "worksheets": [
  {
   "cells": [
    {
     "cell_type": "code",
     "collapsed": false,
     "input": [
      "\n",
      "import sys\n",
      "import numpy as np\n",
      "import matplotlib.pyplot as plt\n",
      "import random\n",
      "from matplotlib import animation, rc\n",
      "\n",
      "fig = plt.figure(figsize=(8, 8), facecolor='black')\n",
      "\n",
      "ax = plt.subplot(111, frameon=False)\n",
      "\n",
      "\n",
      "T = 40\n",
      "p = 10\n",
      "L = 100\n",
      "u0 = np.zeros(L)\n",
      "uv = []\n",
      "dx =1\n",
      "x = np.linspace(1,L,100)\n",
      "\n",
      "#inicializar\n",
      "for i in range(0,L):\n",
      "    valor = L*0.8\n",
      "    if(i<valor):\n",
      "        u0[i]=(1.25*i)/L\n",
      "        \n",
      "    else:\n",
      "        u0[i]= (5-5*i)/L\n",
      "\n",
      "        \n",
      "c = (T/p)**(0.5)  \n",
      "dt = 1\n",
      "r=c*dt/dx\n",
      "tmax = 200\n",
      "tmin = 0\n",
      "lines = []\n",
      "unext = np.zeros(L)\n",
      "for i in range(tmin,tmax):\n",
      "    for j in range(0,L):\n",
      "        if (j==0):\n",
      "            unext[j] = u0[j]\n",
      "        else:\n",
      "            if(j==L-1):\n",
      "                unext[j] = u0[j]\n",
      "            else:\n",
      "                unext[j]= u0[j]+((r**2)/2)*(u0[j+1]-2*u0[j]+u0[j-1])\n",
      "    uv.append(unext)\n",
      "\n",
      "    for j in range(0,L):\n",
      "        u0[j]=unext[j]\n",
      "\n",
      "uv = np.asarray(uv)\n",
      "\n",
      "plt.show\n",
      "\n",
      "line, = ax.plot(x, uv[55], color=\"w\")\n",
      "   \n",
      "\n",
      "\n",
      "def update(*args):\n",
      "    ii = random.randint(0,100)\n",
      "    valor = uv[ii]\n",
      "    line.set_ydata(valor)\n",
      "    return line,       \n",
      "        \n",
      "anim = animation.FuncAnimation(fig, update, interval=10)\n",
      "anim.save('cuerda.gif', writer='imagemagick', fps=30)\n",
      "plt.show()\n"
     ],
     "language": "python",
     "metadata": {},
     "outputs": [
      {
       "output_type": "stream",
       "stream": "stderr",
       "text": [
        "/usr/lib/pymodules/python2.7/matplotlib/animation.py:695: UserWarning: MovieWriter imagemagick unavailable\n",
        "  warnings.warn(\"MovieWriter %s unavailable\" % writer)\n"
       ]
      },
      {
       "ename": "ValueError",
       "evalue": "Cannot save animation: no writers are available. Please install mencoder or ffmpeg to save animations.",
       "output_type": "pyerr",
       "traceback": [
        "\u001b[0;31m---------------------------------------------------------------------------\u001b[0m\n\u001b[0;31mValueError\u001b[0m                                Traceback (most recent call last)",
        "\u001b[0;32m<ipython-input-61-a85716dc0eca>\u001b[0m in \u001b[0;36m<module>\u001b[0;34m()\u001b[0m\n\u001b[1;32m     65\u001b[0m \u001b[0;34m\u001b[0m\u001b[0m\n\u001b[1;32m     66\u001b[0m \u001b[0manim\u001b[0m \u001b[0;34m=\u001b[0m \u001b[0manimation\u001b[0m\u001b[0;34m.\u001b[0m\u001b[0mFuncAnimation\u001b[0m\u001b[0;34m(\u001b[0m\u001b[0mfig\u001b[0m\u001b[0;34m,\u001b[0m \u001b[0mupdate\u001b[0m\u001b[0;34m,\u001b[0m \u001b[0minterval\u001b[0m\u001b[0;34m=\u001b[0m\u001b[0;36m10\u001b[0m\u001b[0;34m)\u001b[0m\u001b[0;34m\u001b[0m\u001b[0m\n\u001b[0;32m---> 67\u001b[0;31m \u001b[0manim\u001b[0m\u001b[0;34m.\u001b[0m\u001b[0msave\u001b[0m\u001b[0;34m(\u001b[0m\u001b[0;34m'cuerda.gif'\u001b[0m\u001b[0;34m,\u001b[0m \u001b[0mwriter\u001b[0m\u001b[0;34m=\u001b[0m\u001b[0;34m'imagemagick'\u001b[0m\u001b[0;34m,\u001b[0m \u001b[0mfps\u001b[0m\u001b[0;34m=\u001b[0m\u001b[0;36m30\u001b[0m\u001b[0;34m)\u001b[0m\u001b[0;34m\u001b[0m\u001b[0m\n\u001b[0m\u001b[1;32m     68\u001b[0m \u001b[0mplt\u001b[0m\u001b[0;34m.\u001b[0m\u001b[0mshow\u001b[0m\u001b[0;34m(\u001b[0m\u001b[0;34m)\u001b[0m\u001b[0;34m\u001b[0m\u001b[0m\n",
        "\u001b[0;32m/usr/lib/pymodules/python2.7/matplotlib/animation.pyc\u001b[0m in \u001b[0;36msave\u001b[0;34m(self, filename, writer, fps, dpi, codec, bitrate, extra_args, metadata, extra_anim, savefig_kwargs)\u001b[0m\n\u001b[1;32m    698\u001b[0m                     \u001b[0mwriter\u001b[0m \u001b[0;34m=\u001b[0m \u001b[0mwriters\u001b[0m\u001b[0;34m.\u001b[0m\u001b[0mlist\u001b[0m\u001b[0;34m(\u001b[0m\u001b[0;34m)\u001b[0m\u001b[0;34m[\u001b[0m\u001b[0;36m0\u001b[0m\u001b[0;34m]\u001b[0m\u001b[0;34m\u001b[0m\u001b[0m\n\u001b[1;32m    699\u001b[0m                 \u001b[0;32mexcept\u001b[0m \u001b[0mIndexError\u001b[0m\u001b[0;34m:\u001b[0m\u001b[0;34m\u001b[0m\u001b[0m\n\u001b[0;32m--> 700\u001b[0;31m                     raise ValueError(\"Cannot save animation: no writers are \"\n\u001b[0m\u001b[1;32m    701\u001b[0m                                      \u001b[0;34m\"available. Please install mencoder or \"\u001b[0m\u001b[0;34m\u001b[0m\u001b[0m\n\u001b[1;32m    702\u001b[0m                                      \"ffmpeg to save animations.\")\n",
        "\u001b[0;31mValueError\u001b[0m: Cannot save animation: no writers are available. Please install mencoder or ffmpeg to save animations."
       ]
      }
     ],
     "prompt_number": 61
    },
    {
     "cell_type": "code",
     "collapsed": false,
     "input": [],
     "language": "python",
     "metadata": {},
     "outputs": [
      {
       "output_type": "stream",
       "stream": "stdout",
       "text": [
        "4\n"
       ]
      }
     ],
     "prompt_number": 59
    },
    {
     "cell_type": "code",
     "collapsed": false,
     "input": [],
     "language": "python",
     "metadata": {},
     "outputs": [
      {
       "output_type": "stream",
       "stream": "stdout",
       "text": [
        "[  6.08477842e-02   6.62354796e-01   9.58031486e-01   8.24027226e-01\n",
        "   2.05584665e-01   1.98893304e-01   6.35952303e-01   6.55303405e-01\n",
        "   5.50066038e-01   8.98209118e-01   3.83257623e-01   2.29214571e-01\n",
        "   5.49618880e-01   1.26018864e-01   2.44136255e-01   3.45617964e-01\n",
        "   4.81416139e-02   2.20309837e-01   6.24465227e-01   8.82087295e-01\n",
        "   4.81872904e-02   6.96552969e-02   3.00041283e-01   3.70310345e-01\n",
        "   3.94045979e-01   9.77786896e-01   8.64930596e-01   1.20396808e-01\n",
        "   7.46464860e-01   8.05296377e-04   7.31130394e-01   4.08062096e-01\n",
        "   4.16025668e-01   7.38472691e-01   3.22376924e-01   9.84265718e-01\n",
        "   6.51009930e-02   6.00688944e-01   3.79501940e-02   2.71744550e-01\n",
        "   4.39121693e-01   8.27226698e-01   5.58749218e-01   5.67585317e-01\n",
        "   8.71797454e-01   3.07047933e-02   7.82495962e-01   6.43461159e-01\n",
        "   2.00691625e-01   3.74744922e-01   1.18768760e-01   3.93515260e-01\n",
        "   4.65013419e-01   4.23082657e-01   3.78803612e-01   7.03294037e-01\n",
        "   8.17574201e-01   6.33439402e-01   4.00790416e-02   6.24288409e-01\n",
        "   2.35591340e-02   5.56503239e-02   3.94922800e-01   1.24408454e-01\n",
        "   2.14737600e-01   4.27587599e-01   9.73833643e-01   9.80114561e-01\n",
        "   3.96007557e-01   1.05245347e-01   8.55563084e-01   4.56541690e-02\n",
        "   5.79149353e-01   6.98067917e-01   4.33907031e-01]\n"
       ]
      }
     ],
     "prompt_number": 11
    },
    {
     "cell_type": "code",
     "collapsed": false,
     "input": [],
     "language": "python",
     "metadata": {},
     "outputs": []
    }
   ],
   "metadata": {}
  }
 ]
}