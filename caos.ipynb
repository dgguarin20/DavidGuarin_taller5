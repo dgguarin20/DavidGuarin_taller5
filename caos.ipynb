{
 "metadata": {
  "name": "",
  "signature": "sha256:a61d08a1c400d314a206e3759216e59a37000766f491e87deb7cc94fdae108dd"
 },
 "nbformat": 3,
 "nbformat_minor": 0,
 "worksheets": [
  {
   "cells": [
    {
     "cell_type": "code",
     "collapsed": false,
     "input": [
      "import numpy as np\n",
      "import matplotlib.pyplot as plt\n",
      "\n",
      "\n",
      "datos = np.loadtxt('datos.txt')\n",
      "\n",
      "x = datos[:,0]\n",
      "y = datos[:,1]\n",
      "\n",
      "plt.plot(x,y)\n",
      "plt.show()\n",
      "\n"
     ],
     "language": "python",
     "metadata": {},
     "outputs": []
    }
   ],
   "metadata": {}
  }
 ]
}